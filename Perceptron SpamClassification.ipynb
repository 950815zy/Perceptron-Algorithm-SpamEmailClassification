{
 "cells": [
  {
   "cell_type": "code",
   "execution_count": 2,
   "metadata": {},
   "outputs": [],
   "source": [
    "import numpy as np\n",
    "\n",
    "import findspark\n",
    "findspark.init()\n",
    "import pyspark\n",
    "from pyspark import SparkConf, SparkContext\n",
    "from pyspark.mllib.linalg import Vectors\n",
    "from pyspark.mllib.linalg import SparseVector\n",
    "from pyspark.mllib.regression import LabeledPoint\n",
    "\n",
    "import matplotlib\n",
    "import matplotlib.pyplot\n",
    "import matplotlib.pyplot as plt\n",
    "%matplotlib inline "
   ]
  },
  {
   "cell_type": "code",
   "execution_count": 3,
   "metadata": {},
   "outputs": [],
   "source": [
    "dataFile = '/scratch/ISE495/lab6/data/enron.libsvm'\n",
    "dictionary = '/scratch/ISE495/lab6/data/dictionary.dat'\n",
    "IDFileMapping = '/scratch/ISE495/lab6/data/fileids.dat'"
   ]
  },
  {
   "cell_type": "markdown",
   "metadata": {},
   "source": [
    "create a hashTable \"dic\" where KEY=ID and Value = word, e.g. dic[0]=fawn"
   ]
  },
  {
   "cell_type": "code",
   "execution_count": 5,
   "metadata": {},
   "outputs": [
    {
     "name": "stdout",
     "output_type": "stream",
     "text": [
      "157309\n"
     ]
    }
   ],
   "source": [
    "\n",
    "dic={} \n",
    "with open(dictionary,'rU') as f:\n",
    "    for line in f:\n",
    "        dic[int(line.split(',')[0])] = line.split(',')[1]\n",
    "    print len(dic)\n",
    "#TODO: size of dictionary"
   ]
  },
  {
   "cell_type": "markdown",
   "metadata": {},
   "source": [
    "Create SparseVector to store all the email, where key is the word and value is the times it appaear.   \n",
    "And Label -1 means not spam, +1 means spam"
   ]
  },
  {
   "cell_type": "code",
   "execution_count": 4,
   "metadata": {},
   "outputs": [],
   "source": [
    "with open(dataFile,'rU') as f:\n",
    "    a=157309\n",
    "    X=[]\n",
    "    label=[]\n",
    "    for line in f:\n",
    "        ids=[]\n",
    "        vals=[]\n",
    "        d=line.split()\n",
    "        # you should fill this function\n",
    "        if d[1] == '0':\n",
    "            label += [-1]\n",
    "        else:\n",
    "            label += [+1]\n",
    "\n",
    "        for e in d[2:]:\n",
    "            e=e.split(\":\")\n",
    "            ids.append(int(e[0]))\n",
    "            vals.append(int(e[1]))\n",
    "        X += [SparseVector(a,ids,vals)]\n",
    "#print X\n",
    "#print label\n",
    "\n",
    "\n"
   ]
  },
  {
   "cell_type": "markdown",
   "metadata": {},
   "source": [
    "Create a random split of data"
   ]
  },
  {
   "cell_type": "code",
   "execution_count": 7,
   "metadata": {},
   "outputs": [
    {
     "data": {
      "text/plain": [
       "23601"
      ]
     },
     "execution_count": 7,
     "metadata": {},
     "output_type": "execute_result"
    }
   ],
   "source": [
    "\n",
    "n=len(label)\n",
    "allPoints = range(n)\n",
    "\n",
    "import random\n",
    "np.random.seed(19680804)\n",
    "np.random.shuffle(allPoints)\n",
    "allPoints\n",
    "trainingSample=allPoints[:int(0.7*n)]\n",
    "testingSample=allPoints[int(0.7*n):]\n",
    "len(trainingSample)"
   ]
  },
  {
   "cell_type": "markdown",
   "metadata": {},
   "source": [
    "\n",
    "Implement Perceptron algorithm + plot testing and training erro"
   ]
  },
  {
   "cell_type": "code",
   "execution_count": 35,
   "metadata": {},
   "outputs": [
    {
     "name": "stdout",
     "output_type": "stream",
     "text": [
      "[-8066.63378255 -8066.63378255 -8066.63378255 ... -8066.63378255\n",
      " -8066.63378255 -8066.63378255]\n",
      "57850\n"
     ]
    }
   ],
   "source": [
    "\n",
    "T=5*n\n",
    "d=157309\n",
    "n=len(trainingSample)\n",
    "w = np.zeros(d)\n",
    "eta= 0.1\n",
    "w1=[]\n",
    "totalMistakes = 0\n",
    "\n",
    "for it in xrange(T):\n",
    "    eta = 0.1/(0.01*it+1)\n",
    "    idx = it%n\n",
    "    xi=X[trainingSample[idx]]\n",
    "    yi=label[trainingSample[idx]]\n",
    "    if yi*xi.dot(xi) <= 0:\n",
    "        #w[it] += w[it] + yi * eta * xi\n",
    "        w = w + xi.dot(np.full(d,eta)*yi)\n",
    "        totalMistakes += 1\n",
    "        #w1+=[w]\n",
    "        #print 'new w:',w1\n",
    "        \n",
    "#example how to compute a dot-product between a data and \"w\"\n",
    "print w\n",
    "print totalMistakes\n"
   ]
  },
  {
   "cell_type": "code",
   "execution_count": null,
   "metadata": {},
   "outputs": [],
   "source": []
  },
  {
   "cell_type": "code",
   "execution_count": null,
   "metadata": {},
   "outputs": [],
   "source": []
  }
 ],
 "metadata": {
  "kernelspec": {
   "display_name": "Python 2",
   "language": "python",
   "name": "python2"
  },
  "language_info": {
   "codemirror_mode": {
    "name": "ipython",
    "version": 2
   },
   "file_extension": ".py",
   "mimetype": "text/x-python",
   "name": "python",
   "nbconvert_exporter": "python",
   "pygments_lexer": "ipython2",
   "version": "2.7.9"
  }
 },
 "nbformat": 4,
 "nbformat_minor": 2
}
